{
 "cells": [
  {
   "cell_type": "code",
   "execution_count": 348,
   "metadata": {
    "scrolled": true
   },
   "outputs": [],
   "source": [
    "import pandas as pd\n",
    "import numpy as np\n",
    "\n",
    "from IPython.display import Markdown\n",
    "from opencage.geocoder import OpenCageGeocode\n",
    "from ipyleaflet import *\n",
    "from ipywidgets import HTML\n",
    "\n",
    "\n",
    "def special_print(title, content):\n",
    "    display(Markdown(\"### %s:\" % title))\n",
    "    print(content)\n",
    "    return None\n",
    "    \n",
    "    \n",
    "class getBiodiversity():\n",
    "\n",
    "    def __init__(self, url):\n",
    "        self.url = url\n",
    "        try:\n",
    "            self.df_data = pd.read_csv(url, sep=';', header=0, encoding='utf-8')\n",
    "        except Exception as e:\n",
    "            self.df_data = pd.DataFrame()\n",
    "            print(\"Aborting... couldn't read this file: %s\" % url)\n",
    "            print (e.args)\n",
    "        self.data_info = \"File shape: %d rows x %d columns\"% (self.df_data.shape[0], self.df_data.shape[1])\n",
    "        return None\n",
    "    \n",
    "    def getColumns(self):\n",
    "        self.df_columns = list(self.df_data.columns)\n",
    "        return None\n",
    "    \n",
    "    def checkEmpty(self):\n",
    "        self.getColumns()\n",
    "        self.df_dataNAN = pd.DataFrame(np.where((self.df_data == '') | (self.df_data == 'Sem Informações'), 1, 0))\n",
    "        self.df_dataNAN.columns = self.df_columns\n",
    "        self.df_data_missing = 100*self.df_dataNAN.mean()\n",
    "        return None\n",
    "\n",
    "    def getLastFilled(self, columns):\n",
    "        filled_columns = [column for column in columns if (column != \"Sem Informações\")]\n",
    "        return 'NA' if len(filled_columns) == 0 else TAXONOMY_COLUMNS[len(filled_columns)-1]\n",
    "    \n",
    "    def addTaxonomicLevel(self, col_name):\n",
    "        self.df_data[col_name] = self.df_data[TAXONOMY_COLUMNS].apply(lambda x: self.getLastFilled(x), axis=1)\n",
    "        self.df_taxonomy_info =  self.df_data[col_name].value_counts()\n",
    "        return None\n",
    "\n",
    "    def extractTaxonomy(self, columns):\n",
    "        self.df_taxonomy = self.df_data[columns]\n",
    "        return None\n",
    "    \n",
    "    def getTaxonomy(self, col_name='taxonomic_level'):\n",
    "        self.addTaxonomicLevel(col_name)\n",
    "        self.extractTaxonomy(TAXONOMY_COLUMNS+[col_name])\n",
    "        return None\n",
    "    \n",
    "    def filterFields(self, columns, values):\n",
    "        filter = np.logical_and.reduce([self.df_data[columns[i]].isin(values[i]) for i in range(len(columns))])\n",
    "        self.df_filtered = self.df_data[filter]\n",
    "        self.filtered_info = \"File shape: %d rows x %d columns\"% (self.df_filtered.shape[0], self.df_filtered.shape[1])\n",
    "        return None\n",
    "    \n",
    "    def parseFloat(self, info):\n",
    "        value = float(info)\n",
    "        try:\n",
    "            value = float(info)\n",
    "        except:\n",
    "            value = 0.0\n",
    "        return value\n",
    "    \n",
    "    def reverseGeocode(self, lat, lon):\n",
    "        geo = geocoder.reverse_geocode(lat, lon, no_annotations = '1', pretty = '1')\n",
    "        return geo[0]['formatted']\n",
    "    \n",
    "    def printMap(self):\n",
    "        lat, lon = self.df_location_sample[\"AdjustedLatitude\"], self.df_location_sample[\"AdjustedLongitude\"]\n",
    "        address = self.df_location_sample[\"ReversedAddress\"].tolist()\n",
    "        center = (lat.mean(), lon.mean())\n",
    "        lat = lat.tolist()\n",
    "        lon = lon.tolist()\n",
    "        my_map = Map(center=center, zoom=3)\n",
    "        marker = Marker(location=center, draggable=False, visible=False)\n",
    "        my_map.add_layer(marker)\n",
    "        for i in range(len(self.df_location_sample)):\n",
    "            center = (lat[i], lon[i])\n",
    "            marker = Marker(location=center, draggable=False)\n",
    "            my_map.add_layer(marker)\n",
    "            popup_message = HTML()\n",
    "            popup_message.value = \"<b>%s</b>\" % address[i]\n",
    "            popup = Popup(location=center, child=popup_message)\n",
    "            marker.popup = popup_message\n",
    "        self.observations_map = my_map\n",
    "        return None\n",
    "        \n",
    "    def checkCoordinates(self, size):\n",
    "        self.df_data[\"AdjustedLatitude\"] = self.df_data[\"Latitude\"].apply(lambda x: self.parseFloat(x))\n",
    "        self.df_data[\"AdjustedLongitude\"] = self.df_data[\"Longitude\"].apply(lambda x: self.parseFloat(x))\n",
    "        self.df_location_sample = self.df_data.sample(n=size)\n",
    "        self.df_location_sample['ReversedAddress'] = self.df_location_sample.apply(lambda x: self.reverseGeocode(x['AdjustedLatitude'],x['AdjustedLongitude']), axis=1)\n",
    "        self.printMap()\n",
    "        return None\n",
    "\n",
    "\n",
    "\n",
    "####################################################################################\n",
    "#\n",
    "# Initializing all data\n",
    "\n",
    "url = \"portalbio_export_16-10-2019-14-39-54.csv\"\n",
    "TAXONOMY_COLUMNS = ['Filo', 'Classe', 'Ordem', 'Familia', 'Genero', 'Especie']\n",
    "LOCATION_COORDINATES = ['Pais', 'Estado/Provincia', 'Municipio', 'Latitude', 'Longitude']\n",
    "LOCATION_SAMPLING = 10 # number of locations to check on each run\n",
    "\n",
    "key = '09aadb1b1d8840acacfa0fcece0acb13'\n",
    "geocoder = OpenCageGeocode(key)\n",
    "\n",
    "biodiversity = getBiodiversity(url)\n",
    "biodiversity.checkEmpty()\n",
    "biodiversity.getTaxonomy(col_name='Nível Taxonômico')\n",
    "biodiversity.filterFields(['Municipio','Filo'],[['Fernando De Noronha','Niquelândia'],['Mollusca','Annelida']])\n",
    "biodiversity.checkCoordinates(LOCATION_SAMPLING)"
   ]
  },
  {
   "cell_type": "code",
   "execution_count": 349,
   "metadata": {},
   "outputs": [
    {
     "data": {
      "text/markdown": [
       "### File URL:"
      ],
      "text/plain": [
       "<IPython.core.display.Markdown object>"
      ]
     },
     "metadata": {},
     "output_type": "display_data"
    },
    {
     "name": "stdout",
     "output_type": "stream",
     "text": [
      "portalbio_export_16-10-2019-14-39-54.csv\n"
     ]
    },
    {
     "data": {
      "text/markdown": [
       "### Raw file info:"
      ],
      "text/plain": [
       "<IPython.core.display.Markdown object>"
      ]
     },
     "metadata": {},
     "output_type": "display_data"
    },
    {
     "name": "stdout",
     "output_type": "stream",
     "text": [
      "File shape: 3912 rows x 34 columns\n"
     ]
    },
    {
     "data": {
      "text/markdown": [
       "### Raw file sample:"
      ],
      "text/plain": [
       "<IPython.core.display.Markdown object>"
      ]
     },
     "metadata": {},
     "output_type": "display_data"
    },
    {
     "name": "stdout",
     "output_type": "stream",
     "text": [
      "                                                                                     0\n",
      "Nome da instituicao                                                    Sem Informações\n",
      "Sigla da instituicao                                                            ICMBio\n",
      "Nome da base de dados                            Atlas de Registro de Aves Brasileiras\n",
      "Sigla da base de dados                    ARA - Atlas de Registros de Aves Brasileiras\n",
      "Responsavel pelo registro            Ibama (Instituto Brasileiro de Meio Ambiente e...\n",
      "Numero do registro no portal                                             ARA-LIT-95641\n",
      "Numero do registro na base de dados                                    Sem Informações\n",
      "Data do registro                                                       Sem Informações\n",
      "Data do evento                                                         Sem Informações\n",
      "Data de Carencia                                                            27/09/2017\n",
      "Nome cientifico                                                     Actitis macularius\n",
      "Nome comum                                                            Maçarico-pintado\n",
      "Nome cientifico na base de dados                                    Actitis macularius\n",
      "Nivel taxonomico                                                               species\n",
      "Numero de individuos                                                                 1\n",
      "Reino                                                                  Sem Informações\n",
      "Filo                                                                          Chordata\n",
      "Classe                                                                            Aves\n",
      "Ordem                                                                    Ciconiiformes\n",
      "Familia                                                                   Scolopacidae\n",
      "Genero                                                                         Actitis\n",
      "Especie                                                             Actitis macularius\n",
      "Estado de conservacao                                             Espécie não Ameaçada\n",
      "Categoria de Ameaca                                                    Sem Informações\n",
      "Localidade                                                  APA de Fernando de Noronha\n",
      "Pais                                                                   Sem Informações\n",
      "Estado/Provincia                                                                    PE\n",
      "Municipio                                                          Fernando de Noronha\n",
      "Status de Sensibilidade                                           Espécie não Sensível\n",
      "Latitude                                                                        -3.849\n",
      "Longitude                                                                       -32.42\n",
      "Outras informacoes da localidade                        Coordenada exata da ocorr?ncia\n",
      "Jurisdicao                                                             Sem Informações\n",
      "Destino do Material                                                    Sem Informações\n",
      "Nível Taxonômico                                                               Especie\n",
      "AdjustedLatitude                                                                -3.849\n",
      "AdjustedLongitude                                                               -32.42\n"
     ]
    },
    {
     "data": {
      "text/markdown": [
       "### Dataframe columns:"
      ],
      "text/plain": [
       "<IPython.core.display.Markdown object>"
      ]
     },
     "metadata": {},
     "output_type": "display_data"
    },
    {
     "name": "stdout",
     "output_type": "stream",
     "text": [
      "['Nome da instituicao', 'Sigla da instituicao', 'Nome da base de dados', 'Sigla da base de dados', 'Responsavel pelo registro', 'Numero do registro no portal', 'Numero do registro na base de dados', 'Data do registro', 'Data do evento', 'Data de Carencia', 'Nome cientifico', 'Nome comum', 'Nome cientifico na base de dados', 'Nivel taxonomico', 'Numero de individuos', 'Reino', 'Filo', 'Classe', 'Ordem', 'Familia', 'Genero', 'Especie', 'Estado de conservacao', 'Categoria de Ameaca', 'Localidade', 'Pais', 'Estado/Provincia', 'Municipio', 'Status de Sensibilidade', 'Latitude', 'Longitude', 'Outras informacoes da localidade', 'Jurisdicao', 'Destino do Material']\n"
     ]
    }
   ],
   "source": [
    "####################################################################################\n",
    "#\n",
    "# Show sample of each output - raw data load\n",
    "\n",
    "special_print(\"File URL\", biodiversity.url)\n",
    "special_print(\"Raw file info\", biodiversity.data_info)\n",
    "special_print(\"Raw file sample\", biodiversity.df_data.head(1).T)\n",
    "special_print(\"Dataframe columns\", biodiversity.df_columns)"
   ]
  },
  {
   "cell_type": "code",
   "execution_count": 350,
   "metadata": {},
   "outputs": [
    {
     "data": {
      "text/markdown": [
       "### Data missing sample (1 = missing):"
      ],
      "text/plain": [
       "<IPython.core.display.Markdown object>"
      ]
     },
     "metadata": {},
     "output_type": "display_data"
    },
    {
     "name": "stdout",
     "output_type": "stream",
     "text": [
      "                                     0  1  2  3  4\n",
      "Nome da instituicao                  1  1  1  1  1\n",
      "Sigla da instituicao                 0  0  0  0  0\n",
      "Nome da base de dados                0  0  0  0  0\n",
      "Sigla da base de dados               0  0  0  0  0\n",
      "Responsavel pelo registro            0  0  0  0  0\n",
      "Numero do registro no portal         0  0  0  0  0\n",
      "Numero do registro na base de dados  1  1  1  1  1\n",
      "Data do registro                     1  1  1  1  1\n",
      "Data do evento                       1  1  1  1  1\n",
      "Data de Carencia                     0  0  0  0  0\n",
      "Nome cientifico                      0  0  0  0  0\n",
      "Nome comum                           0  0  0  0  0\n",
      "Nome cientifico na base de dados     0  0  0  0  0\n",
      "Nivel taxonomico                     0  0  0  0  0\n",
      "Numero de individuos                 0  0  0  0  0\n",
      "Reino                                1  1  1  1  1\n",
      "Filo                                 0  0  0  0  0\n",
      "Classe                               0  0  0  0  0\n",
      "Ordem                                0  0  0  0  0\n",
      "Familia                              0  0  0  0  0\n",
      "Genero                               0  0  0  0  0\n",
      "Especie                              0  0  0  0  0\n",
      "Estado de conservacao                0  0  0  0  0\n",
      "Categoria de Ameaca                  1  1  1  1  1\n",
      "Localidade                           0  0  0  0  0\n",
      "Pais                                 1  1  1  1  1\n",
      "Estado/Provincia                     0  0  0  0  0\n",
      "Municipio                            0  0  0  0  0\n",
      "Status de Sensibilidade              0  0  0  0  0\n",
      "Latitude                             0  0  0  0  0\n",
      "Longitude                            0  0  0  0  0\n",
      "Outras informacoes da localidade     0  0  0  0  0\n",
      "Jurisdicao                           1  1  1  1  1\n",
      "Destino do Material                  1  1  1  1  1\n"
     ]
    },
    {
     "data": {
      "text/markdown": [
       "### Data missing statistics (%):"
      ],
      "text/plain": [
       "<IPython.core.display.Markdown object>"
      ]
     },
     "metadata": {},
     "output_type": "display_data"
    },
    {
     "name": "stdout",
     "output_type": "stream",
     "text": [
      "Nome da instituicao                    100.000000\n",
      "Sigla da instituicao                     0.000000\n",
      "Nome da base de dados                    0.000000\n",
      "Sigla da base de dados                   0.000000\n",
      "Responsavel pelo registro                0.076687\n",
      "Numero do registro no portal             0.000000\n",
      "Numero do registro na base de dados      6.007157\n",
      "Data do registro                         3.502045\n",
      "Data do evento                          54.447853\n",
      "Data de Carencia                         0.000000\n",
      "Nome cientifico                          1.687117\n",
      "Nome comum                              74.207566\n",
      "Nome cientifico na base de dados         0.000000\n",
      "Nivel taxonomico                         1.687117\n",
      "Numero de individuos                    51.354806\n",
      "Reino                                  100.000000\n",
      "Filo                                     3.169734\n",
      "Classe                                   3.757669\n",
      "Ordem                                    4.294479\n",
      "Familia                                  4.729039\n",
      "Genero                                  16.513292\n",
      "Especie                                 37.448875\n",
      "Estado de conservacao                    0.000000\n",
      "Categoria de Ameaca                     85.122699\n",
      "Localidade                               1.942740\n",
      "Pais                                     3.425358\n",
      "Estado/Provincia                        10.557260\n",
      "Municipio                               42.126789\n",
      "Status de Sensibilidade                  0.000000\n",
      "Latitude                                 0.000000\n",
      "Longitude                                0.000000\n",
      "Outras informacoes da localidade        55.802658\n",
      "Jurisdicao                             100.000000\n",
      "Destino do Material                     55.010225\n",
      "dtype: float64\n"
     ]
    }
   ],
   "source": [
    "####################################################################################\n",
    "#\n",
    "# Show sample of each output - data missing analysis\n",
    "\n",
    "special_print(\"Data missing sample (1 = missing)\", biodiversity.df_dataNAN.head(5).T)\n",
    "special_print(\"Data missing statistics (%)\", biodiversity.df_data_missing)"
   ]
  },
  {
   "cell_type": "code",
   "execution_count": 351,
   "metadata": {},
   "outputs": [
    {
     "data": {
      "text/markdown": [
       "### Raw data sample after taxonomic level inclusion:"
      ],
      "text/plain": [
       "<IPython.core.display.Markdown object>"
      ]
     },
     "metadata": {},
     "output_type": "display_data"
    },
    {
     "name": "stdout",
     "output_type": "stream",
     "text": [
      "                                                                                     0\n",
      "Nome da instituicao                                                    Sem Informações\n",
      "Sigla da instituicao                                                            ICMBio\n",
      "Nome da base de dados                            Atlas de Registro de Aves Brasileiras\n",
      "Sigla da base de dados                    ARA - Atlas de Registros de Aves Brasileiras\n",
      "Responsavel pelo registro            Ibama (Instituto Brasileiro de Meio Ambiente e...\n",
      "Numero do registro no portal                                             ARA-LIT-95641\n",
      "Numero do registro na base de dados                                    Sem Informações\n",
      "Data do registro                                                       Sem Informações\n",
      "Data do evento                                                         Sem Informações\n",
      "Data de Carencia                                                            27/09/2017\n",
      "Nome cientifico                                                     Actitis macularius\n",
      "Nome comum                                                            Maçarico-pintado\n",
      "Nome cientifico na base de dados                                    Actitis macularius\n",
      "Nivel taxonomico                                                               species\n",
      "Numero de individuos                                                                 1\n",
      "Reino                                                                  Sem Informações\n",
      "Filo                                                                          Chordata\n",
      "Classe                                                                            Aves\n",
      "Ordem                                                                    Ciconiiformes\n",
      "Familia                                                                   Scolopacidae\n",
      "Genero                                                                         Actitis\n",
      "Especie                                                             Actitis macularius\n",
      "Estado de conservacao                                             Espécie não Ameaçada\n",
      "Categoria de Ameaca                                                    Sem Informações\n",
      "Localidade                                                  APA de Fernando de Noronha\n",
      "Pais                                                                   Sem Informações\n",
      "Estado/Provincia                                                                    PE\n",
      "Municipio                                                          Fernando de Noronha\n",
      "Status de Sensibilidade                                           Espécie não Sensível\n",
      "Latitude                                                                        -3.849\n",
      "Longitude                                                                       -32.42\n",
      "Outras informacoes da localidade                        Coordenada exata da ocorr?ncia\n",
      "Jurisdicao                                                             Sem Informações\n",
      "Destino do Material                                                    Sem Informações\n",
      "Nível Taxonômico                                                               Especie\n",
      "AdjustedLatitude                                                                -3.849\n",
      "AdjustedLongitude                                                               -32.42\n"
     ]
    },
    {
     "data": {
      "text/markdown": [
       "### Taxonomic info:"
      ],
      "text/plain": [
       "<IPython.core.display.Markdown object>"
      ]
     },
     "metadata": {},
     "output_type": "display_data"
    },
    {
     "name": "stdout",
     "output_type": "stream",
     "text": [
      "Especie    2447\n",
      "Genero      819\n",
      "Familia     461\n",
      "NA          124\n",
      "Filo         23\n",
      "Classe       21\n",
      "Ordem        17\n",
      "Name: Nível Taxonômico, dtype: int64\n"
     ]
    },
    {
     "data": {
      "text/markdown": [
       "### Taxonomy sample:"
      ],
      "text/plain": [
       "<IPython.core.display.Markdown object>"
      ]
     },
     "metadata": {},
     "output_type": "display_data"
    },
    {
     "name": "stdout",
     "output_type": "stream",
     "text": [
      "                                   0              1              2\n",
      "Filo                        Chordata       Chordata       Chordata\n",
      "Classe                          Aves           Aves           Aves\n",
      "Ordem                  Ciconiiformes  Ciconiiformes  Ciconiiformes\n",
      "Familia                 Scolopacidae        Laridae        Laridae\n",
      "Genero                       Actitis          Anous          Anous\n",
      "Especie           Actitis macularius  Anous minutus  Anous minutus\n",
      "Nível Taxonômico             Especie        Especie        Especie\n"
     ]
    }
   ],
   "source": [
    "####################################################################################\n",
    "#\n",
    "# Show sample of each output - show taxonomic info\n",
    "\n",
    "special_print(\"Raw data sample after taxonomic level inclusion\", biodiversity.df_data.head(1).T)\n",
    "special_print(\"Taxonomic info\", biodiversity.df_taxonomy_info)\n",
    "special_print(\"Taxonomy sample\", biodiversity.df_taxonomy.head(3).T)"
   ]
  },
  {
   "cell_type": "code",
   "execution_count": 352,
   "metadata": {},
   "outputs": [
    {
     "data": {
      "text/markdown": [
       "### Filtered data info:"
      ],
      "text/plain": [
       "<IPython.core.display.Markdown object>"
      ]
     },
     "metadata": {},
     "output_type": "display_data"
    },
    {
     "name": "stdout",
     "output_type": "stream",
     "text": [
      "File shape: 208 rows x 35 columns\n"
     ]
    },
    {
     "data": {
      "text/markdown": [
       "### Filtered data sample:"
      ],
      "text/plain": [
       "<IPython.core.display.Markdown object>"
      ]
     },
     "metadata": {},
     "output_type": "display_data"
    },
    {
     "name": "stdout",
     "output_type": "stream",
     "text": [
      "                                                                                  3129\n",
      "Nome da instituicao                                                    Sem Informações\n",
      "Sigla da instituicao                                                            ICMBio\n",
      "Nome da base de dados                Sistema de Autorização e Informação em Biodive...\n",
      "Sigla da base de dados                                                    SISBIO-DIBIO\n",
      "Responsavel pelo registro                                     Fábio Hissa Vieira Hazin\n",
      "Numero do registro no portal                                                    527175\n",
      "Numero do registro na base de dados  Nº Da Autorização/Licença Sisbio: 17081, Proje...\n",
      "Data do registro                                                            03/05/2014\n",
      "Data do evento                                                 04/05/2014 a 06/05/2014\n",
      "Data de Carencia                                                            04/10/2019\n",
      "Nome cientifico                                                               Mollusca\n",
      "Nome comum                                                             Sem Informações\n",
      "Nome cientifico na base de dados                                              Mollusca\n",
      "Nivel taxonomico                                                                phylum\n",
      "Numero de individuos                                                                 6\n",
      "Reino                                                                  Sem Informações\n",
      "Filo                                                                          Mollusca\n",
      "Classe                                                                 Sem Informações\n",
      "Ordem                                                                  Sem Informações\n",
      "Familia                                                                Sem Informações\n",
      "Genero                                                                 Sem Informações\n",
      "Especie                                                                Sem Informações\n",
      "Estado de conservacao                                             Espécie não Ameaçada\n",
      "Categoria de Ameaca                                                    Sem Informações\n",
      "Localidade                                        Arquipélago De São Pedro E São Paulo\n",
      "Pais                                                                            Brasil\n",
      "Estado/Provincia                                                                    PE\n",
      "Municipio                                                          Fernando De Noronha\n",
      "Status de Sensibilidade                                           Espécie não Sensível\n",
      "Latitude                                                                      0.916667\n",
      "Longitude                                                                       -29.35\n",
      "Outras informacoes da localidade            Coordenada de referência da área amostrada\n",
      "Jurisdicao                                                             Sem Informações\n",
      "Destino do Material                         Depositado em banco de amostras biológicas\n",
      "Nível Taxonômico                                                                  Filo\n"
     ]
    }
   ],
   "source": [
    "####################################################################################\n",
    "#\n",
    "# Show sample of each output - filtered data\n",
    "\n",
    "special_print(\"Filtered data info\", biodiversity.filtered_info)\n",
    "special_print(\"Filtered data sample\", biodiversity.df_filtered.head(1).T)"
   ]
  },
  {
   "cell_type": "code",
   "execution_count": 353,
   "metadata": {},
   "outputs": [
    {
     "data": {
      "text/markdown": [
       "### Raw data sample after location adjustments:"
      ],
      "text/plain": [
       "<IPython.core.display.Markdown object>"
      ]
     },
     "metadata": {},
     "output_type": "display_data"
    },
    {
     "name": "stdout",
     "output_type": "stream",
     "text": [
      "                                                                                     0\n",
      "Nome da instituicao                                                    Sem Informações\n",
      "Sigla da instituicao                                                            ICMBio\n",
      "Nome da base de dados                            Atlas de Registro de Aves Brasileiras\n",
      "Sigla da base de dados                    ARA - Atlas de Registros de Aves Brasileiras\n",
      "Responsavel pelo registro            Ibama (Instituto Brasileiro de Meio Ambiente e...\n",
      "Numero do registro no portal                                             ARA-LIT-95641\n",
      "Numero do registro na base de dados                                    Sem Informações\n",
      "Data do registro                                                       Sem Informações\n",
      "Data do evento                                                         Sem Informações\n",
      "Data de Carencia                                                            27/09/2017\n",
      "Nome cientifico                                                     Actitis macularius\n",
      "Nome comum                                                            Maçarico-pintado\n",
      "Nome cientifico na base de dados                                    Actitis macularius\n",
      "Nivel taxonomico                                                               species\n",
      "Numero de individuos                                                                 1\n",
      "Reino                                                                  Sem Informações\n",
      "Filo                                                                          Chordata\n",
      "Classe                                                                            Aves\n",
      "Ordem                                                                    Ciconiiformes\n",
      "Familia                                                                   Scolopacidae\n",
      "Genero                                                                         Actitis\n",
      "Especie                                                             Actitis macularius\n",
      "Estado de conservacao                                             Espécie não Ameaçada\n",
      "Categoria de Ameaca                                                    Sem Informações\n",
      "Localidade                                                  APA de Fernando de Noronha\n",
      "Pais                                                                   Sem Informações\n",
      "Estado/Provincia                                                                    PE\n",
      "Municipio                                                          Fernando de Noronha\n",
      "Status de Sensibilidade                                           Espécie não Sensível\n",
      "Latitude                                                                        -3.849\n",
      "Longitude                                                                       -32.42\n",
      "Outras informacoes da localidade                        Coordenada exata da ocorr?ncia\n",
      "Jurisdicao                                                             Sem Informações\n",
      "Destino do Material                                                    Sem Informações\n",
      "Nível Taxonômico                                                               Especie\n",
      "AdjustedLatitude                                                                -3.849\n",
      "AdjustedLongitude                                                               -32.42\n"
     ]
    },
    {
     "data": {
      "text/markdown": [
       "### Sample of locations to check:"
      ],
      "text/plain": [
       "<IPython.core.display.Markdown object>"
      ]
     },
     "metadata": {},
     "output_type": "display_data"
    },
    {
     "name": "stdout",
     "output_type": "stream",
     "text": [
      "                                                                                    48\n",
      "Nome da instituicao                                                    Sem Informações\n",
      "Sigla da instituicao                                                              JBRJ\n",
      "Nome da base de dados                    Herbário do Jardim Botânico do Rio de Janeiro\n",
      "Sigla da base de dados                                                              RB\n",
      "Responsavel pelo registro                                           Gª Pedra do Cavalo\n",
      "Numero do registro no portal                                                RB00079609\n",
      "Numero do registro na base de dados                                                953\n",
      "Data do registro                                                       Sem Informações\n",
      "Data do evento                                                         Sem Informações\n",
      "Data de Carencia                                                            30/10/2017\n",
      "Nome cientifico                                                           Erythroxylum\n",
      "Nome comum                                                             Sem Informações\n",
      "Nome cientifico na base de dados                   Erythroxylum subrotundum A.St.-Hil.\n",
      "Nivel taxonomico                                                                 genus\n",
      "Numero de individuos                                                   Sem Informações\n",
      "Reino                                                                  Sem Informações\n",
      "Filo                                                                     Magnoliophyta\n",
      "Classe                                                                   Magnoliopsida\n",
      "Ordem                                                                          Linales\n",
      "Familia                                                                Erythroxylaceae\n",
      "Genero                                                                    Erythroxylum\n",
      "Especie                                                                Sem Informações\n",
      "Estado de conservacao                                                 Espécie Ameaçada\n",
      "Categoria de Ameaca                                                          Em Perigo\n",
      "Localidade                           Morro Belo. Cachoeira- Vale dos Rios Paraguaçu...\n",
      "Pais                                                                            Brasil\n",
      "Estado/Provincia                                                                 Bahia\n",
      "Municipio                                                              Sem Informações\n",
      "Status de Sensibilidade                                           Espécie não Sensível\n",
      "Latitude                                                                      -12.5333\n",
      "Longitude                                                                     -30.0833\n",
      "Outras informacoes da localidade                                       Sem Informações\n",
      "Jurisdicao                                                             Sem Informações\n",
      "Destino do Material                                                    Sem Informações\n",
      "Nível Taxonômico                                                                Genero\n",
      "AdjustedLatitude                                                              -12.5333\n",
      "AdjustedLongitude                                                             -30.0833\n",
      "ReversedAddress                                                   South Atlantic Ocean\n"
     ]
    }
   ],
   "source": [
    "####################################################################################\n",
    "#\n",
    "# Show sample of each output - show location info\n",
    "\n",
    "special_print(\"Raw data sample after location adjustments\", biodiversity.df_data.head(1).T)\n",
    "special_print(\"Sample of locations to check\", biodiversity.df_location_sample.head(1).T)"
   ]
  },
  {
   "cell_type": "code",
   "execution_count": 355,
   "metadata": {
    "scrolled": true
   },
   "outputs": [
    {
     "data": {
      "text/markdown": [
       "### Observations (click to see more details)"
      ],
      "text/plain": [
       "<IPython.core.display.Markdown object>"
      ]
     },
     "metadata": {},
     "output_type": "display_data"
    },
    {
     "data": {
      "application/vnd.jupyter.widget-view+json": {
       "model_id": "e88d897fcaf14c85a4d3275e34ca4695",
       "version_major": 2,
       "version_minor": 0
      },
      "text/plain": [
       "Map(basemap={'url': 'https://{s}.tile.openstreetmap.org/{z}/{x}/{y}.png', 'max_zoom': 19, 'attribution': 'Map …"
      ]
     },
     "metadata": {},
     "output_type": "display_data"
    }
   ],
   "source": [
    "####################################################################################\n",
    "#\n",
    "# Show sample of each output - show map with reported observations\n",
    "\n",
    "display(Markdown(\"### Observations (click to see more details)\"))\n",
    "\n",
    "biodiversity.observations_map"
   ]
  }
 ],
 "metadata": {
  "hide_input": false,
  "kernelspec": {
   "display_name": "Python 3",
   "language": "python",
   "name": "python3"
  },
  "language_info": {
   "codemirror_mode": {
    "name": "ipython",
    "version": 3
   },
   "file_extension": ".py",
   "mimetype": "text/x-python",
   "name": "python",
   "nbconvert_exporter": "python",
   "pygments_lexer": "ipython3",
   "version": "3.7.4"
  }
 },
 "nbformat": 4,
 "nbformat_minor": 2
}
