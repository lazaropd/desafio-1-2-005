{
 "cells": [
  {
   "cell_type": "markdown",
   "metadata": {},
   "source": [
    "# Tópico 4 - Avaliação de Localização "
   ]
  },
  {
   "cell_type": "code",
   "execution_count": 1,
   "metadata": {},
   "outputs": [],
   "source": [
    "from read_file import CSVFile\n",
    "from opencage.geocoder import OpenCageGeocode\n",
    "from ipyleaflet import *\n",
    "\n",
    "import geopy.distance\n",
    "\n",
    "key = '09aadb1b1d8840acacfa0fcece0acb13'\n",
    "geocoder = OpenCageGeocode(key)\n",
    "\n",
    "class gabriela:\n",
    "\n",
    "    def __init__(self,data):\n",
    "        self.data = data\n",
    "        self.topics = [\"country\",\"state\",\"state_code\",\"city\"]\n",
    "\n",
    "    def check_localization(self):\n",
    "        indlat = self.data[0].index(\"Latitude\")\t\n",
    "        indpais = self.data[0].index(\"Pais\")\n",
    "\n",
    "        result = []\n",
    "        for line in self.data[1:10]:\n",
    "\n",
    "            lat = self.parse_float(line[indlat])\n",
    "            lon = self.parse_float(line[indlat+1])\n",
    "\n",
    "            geo = geocoder.reverse_geocode(lat,lon)   # retorna info de lat,lon\n",
    "            comp = geo[0]['components']               # separa info de localizacao\n",
    "            info = self.get_info(comp) \n",
    "\n",
    "            res = self.info_compare(line[indpais:indpais+3],info)\n",
    "    \n",
    "            if not res:\n",
    "                rlat,rlon = self.get_latlon(line[indpais:indpais+3])\n",
    "                dist = self.get_distance((lat,lon),(rlat,rlon))\n",
    "                result.append(dist)\n",
    "            else:\n",
    "                result.append(res)\n",
    "        \n",
    "        return result\n",
    "\n",
    "\n",
    "\n",
    "    # tenta a leitura de numeros float para latitude e longitude \n",
    "    def parse_float(self,info):\n",
    "        try:\n",
    "            value = float(info)\n",
    "        except:\n",
    "            value = 0.0\n",
    "        return value\n",
    "\n",
    "\n",
    "    # separa as informacoes de país, estado, código de estado e cidade\n",
    "    def get_info(self,components):\n",
    "        aux = []\n",
    "        for elem in self.topics:\n",
    "            try:\n",
    "                value = components[elem]\n",
    "            except:\n",
    "                value = \"Sem Informações\"\n",
    "            aux.append(value)\n",
    "        return [aux[0],(aux[1],aux[2]),aux[3]]\n",
    "\n",
    "\n",
    "    # compara as informacoes existentes\n",
    "    def info_compare(self,line,info):\n",
    "\n",
    "        correct = True\n",
    "        for i, elem in enumerate(line):\n",
    "            if line[i]!=\"Sem Informações\" and info[i]!= \"Sem Informações\":\n",
    "                if i==1:\n",
    "                    if (line[i]!=info[i][0] and line[i]!=info[i][1]):\n",
    "                        correct = False\n",
    "                elif line[i]!=info[i]:\n",
    "                    correct = False\n",
    "        return correct \n",
    "\n",
    "\n",
    "    # busca a latitude e longitude de um endereco\n",
    "    def get_latlon(self,line):\n",
    "\n",
    "        address = self.concat_info(line) \n",
    "        geo = geocoder.geocode(address)\n",
    "        lat,lon = geo[0]['geometry']['lat'], geo[0]['geometry']['lng']\n",
    "        return lat,lon\n",
    "\n",
    "\n",
    "    # concatena info em string para fazer a busca no geocode\n",
    "    def concat_info(self,line):\n",
    "        aux = \"\"\n",
    "        for elem in line:\n",
    "            if elem != \"Sem Informações\":\n",
    "                aux += elem + \",\"\n",
    "        return aux[:-1]\n",
    "\n",
    "\n",
    "    # calcula distancia entre duas coordenadas\n",
    "    def get_distance(self,coord1, coord2):\n",
    "        return geopy.distance.geodesic(coord1,coord2).km"
   ]
  },
  {
   "cell_type": "code",
   "execution_count": 2,
   "metadata": {},
   "outputs": [
    {
     "name": "stdout",
     "output_type": "stream",
     "text": [
      "[True, True, True, True, True, True, True, True, True]\n"
     ]
    }
   ],
   "source": [
    "if __name__ == \"__main__\":\n",
    "    cfile = CSVFile()\n",
    "    cfile.read_file(\"portalbio_export_16-10-2019-14-39-54.csv\")\n",
    "\n",
    "    g = gabriela(cfile.data)\n",
    "    result = g.check_localization()\n",
    "    print(result)"
   ]
  },
  {
   "cell_type": "code",
   "execution_count": null,
   "metadata": {},
   "outputs": [],
   "source": []
  }
 ],
 "metadata": {
  "kernelspec": {
   "display_name": "Python [conda env:test] *",
   "language": "python",
   "name": "conda-env-test-py"
  },
  "language_info": {
   "codemirror_mode": {
    "name": "ipython",
    "version": 3
   },
   "file_extension": ".py",
   "mimetype": "text/x-python",
   "name": "python",
   "nbconvert_exporter": "python",
   "pygments_lexer": "ipython3",
   "version": "3.7.4"
  }
 },
 "nbformat": 4,
 "nbformat_minor": 2
}
